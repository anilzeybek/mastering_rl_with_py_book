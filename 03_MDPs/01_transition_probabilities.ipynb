{
 "cells": [
  {
   "cell_type": "markdown",
   "id": "extended-diploma",
   "metadata": {},
   "source": [
    "Transition probability matrix after n time steps is given by:\n",
    "$ p_n = qP^n $ where q is initial probability distribution. "
   ]
  },
  {
   "cell_type": "markdown",
   "id": "difficult-template",
   "metadata": {},
   "source": [
    "We will calculate the transition probability matrix for the given scenario:\n",
    "<br>\n",
    "<img src=\"robot.png\" style=\"width: 300px;\"/>\n",
    "\n",
    "But instead of a 4x4 environment, we will use 3x3 and robot will start at (1, 1)"
   ]
  },
  {
   "cell_type": "markdown",
   "id": "rational-hours",
   "metadata": {},
   "source": [
    "## First, we will calculate the $p_n$ using transition probabilities"
   ]
  },
  {
   "cell_type": "code",
   "execution_count": 1,
   "id": "spare-brave",
   "metadata": {},
   "outputs": [],
   "source": [
    "import numpy as np\n",
    "m = 3\n",
    "m2 = m**2\n",
    "\n",
    "q = np.zeros(m2)\n",
    "q[4] = 1"
   ]
  },
  {
   "cell_type": "code",
   "execution_count": 2,
   "id": "brave-wireless",
   "metadata": {},
   "outputs": [],
   "source": [
    "def get_P(m, p_up, p_down, p_left, p_right):\n",
    "    m2 = m**2\n",
    "    P = np.zeros((m2, m2))\n",
    "    \n",
    "    # this statement calculates indices for each location\n",
    "    index_map = {i + 1: (i // m, i % m) for i in range(m2)}\n",
    "    \n",
    "    for i in range(m2):\n",
    "        for j in range(m2):\n",
    "            r1, c1 = index_map[i + 1]\n",
    "            r2, c2 = index_map[j + 1]\n",
    "            # we are transitioning from (r1, c1) to (r2, c2)\n",
    "            \n",
    "            r_diff = r1 - r2\n",
    "            c_diff = c1 - c2\n",
    "            \n",
    "            if r_diff == 0:\n",
    "                if c_diff == 1:\n",
    "                    P[i, j] = p_left\n",
    "                elif c_diff == -1:\n",
    "                    P[i, j] = p_right\n",
    "                elif c_diff == 0:\n",
    "                    if r1 == 0:\n",
    "                        P[i, j] += p_down\n",
    "                    elif r1 == m - 1:\n",
    "                        P[i, j] += p_up\n",
    "                    \n",
    "                    if c1 == 0:\n",
    "                        P[i, j] += p_left\n",
    "                    elif c1 == m - 1:\n",
    "                        P[i, j] += p_right\n",
    "                        \n",
    "            elif r_diff == 1:\n",
    "                if c_diff == 0:\n",
    "                    P[i, j] = p_down\n",
    "            elif r_diff == -1:\n",
    "                if c_diff == 0:\n",
    "                    P[i, j] = p_up\n",
    "    \n",
    "    return P"
   ]
  },
  {
   "cell_type": "code",
   "execution_count": 3,
   "id": "russian-scottish",
   "metadata": {},
   "outputs": [],
   "source": [
    "P = get_P(3, 0.2, 0.3, 0.25, 0.25)"
   ]
  },
  {
   "cell_type": "code",
   "execution_count": 4,
   "id": "effective-proportion",
   "metadata": {},
   "outputs": [
    {
     "data": {
      "text/plain": [
       "array([[0.  , 0.2 , 0.  ],\n",
       "       [0.25, 0.  , 0.25],\n",
       "       [0.  , 0.3 , 0.  ]])"
      ]
     },
     "execution_count": 4,
     "metadata": {},
     "output_type": "execute_result"
    }
   ],
   "source": [
    "n = 1\n",
    "Pn = np.linalg.matrix_power(P, n)\n",
    "result = q @ Pn\n",
    "\n",
    "# flipping just for good visualization\n",
    "np.flip(result.reshape(m, m), axis=0)"
   ]
  },
  {
   "cell_type": "code",
   "execution_count": 5,
   "id": "piano-table",
   "metadata": {},
   "outputs": [
    {
     "data": {
      "text/plain": [
       "array([[0.07180907, 0.07154579, 0.07180907],\n",
       "       [0.10541537, 0.10600186, 0.10541537],\n",
       "       [0.15610857, 0.15578632, 0.15610857]])"
      ]
     },
     "execution_count": 5,
     "metadata": {},
     "output_type": "execute_result"
    }
   ],
   "source": [
    "n = 10\n",
    "Pn = np.linalg.matrix_power(P, n)\n",
    "result = q @ Pn\n",
    "\n",
    "# flipping just for good visualization\n",
    "np.flip(result.reshape(m, m), axis=0)"
   ]
  },
  {
   "cell_type": "markdown",
   "id": "large-parade",
   "metadata": {},
   "source": [
    "## If Markov chain is ergodic, we can simulate and estimate steady-state distribution"
   ]
  },
  {
   "cell_type": "code",
   "execution_count": 6,
   "id": "internal-reply",
   "metadata": {},
   "outputs": [],
   "source": [
    "state = 4\n",
    "n = 10 ** 6\n",
    "visited = [4]"
   ]
  },
  {
   "cell_type": "code",
   "execution_count": 7,
   "id": "going-granny",
   "metadata": {},
   "outputs": [],
   "source": [
    "for _ in range(n):\n",
    "    state = np.random.choice(m2, p=P[state, :])\n",
    "    visited.append(state)"
   ]
  },
  {
   "cell_type": "code",
   "execution_count": 8,
   "id": "sporting-vermont",
   "metadata": {},
   "outputs": [
    {
     "data": {
      "text/plain": [
       "(array([0, 1, 2, 3, 4, 5, 6, 7, 8]),\n",
       " array([157571, 158165, 159053, 104374, 104797, 105638,  70135,  69724,\n",
       "         70544]))"
      ]
     },
     "execution_count": 8,
     "metadata": {},
     "output_type": "execute_result"
    }
   ],
   "source": [
    "np.unique(visited, return_counts=True)"
   ]
  },
  {
   "cell_type": "markdown",
   "id": "appreciated-marsh",
   "metadata": {},
   "source": [
    "## Now lets calculate the average reward for each state with simulation, which is state values in this case\n",
    "\n",
    "Reward is defined by +1 for each transaction. Hitting the wall ends the episode.\n",
    "\n",
    "We first modify the transition probability matrix:"
   ]
  },
  {
   "cell_type": "code",
   "execution_count": 9,
   "id": "normal-virginia",
   "metadata": {},
   "outputs": [],
   "source": [
    "P = np.zeros((m2 + 1, m2 + 1))\n",
    "P[:m2, :m2] = get_P(3, 0.2, 0.3, 0.25, 0.25)\n",
    "\n",
    "# Initially, we made it bouncing from walls but now we are changing the bouncing probabilites to hitting probabilities\n",
    "for i in range(m2):\n",
    "    P[i, m2] = P[i, i]\n",
    "    P[i, i] = 0\n",
    "\n",
    "P[m2, m2] = 1"
   ]
  },
  {
   "cell_type": "markdown",
   "id": "functioning-cocktail",
   "metadata": {},
   "source": [
    "Next we simulate the environment by select next states based on transition probability matrix and calculate average reward for each state:"
   ]
  },
  {
   "cell_type": "code",
   "execution_count": 18,
   "id": "native-integral",
   "metadata": {},
   "outputs": [],
   "source": [
    "n = 10 ** 5\n",
    "avg_rewards = np.zeros(m2)\n",
    "\n",
    "for s in range(m2):\n",
    "    for i in range(n):\n",
    "        crashed = False\n",
    "        episode_reward = 0\n",
    "        s_next = s\n",
    "        \n",
    "        while not crashed:\n",
    "            s_next = np.random.choice(m2 + 1, p=P[s_next, :])\n",
    "            if s_next < m2:\n",
    "                episode_reward += 1\n",
    "            else:\n",
    "                crashed = True\n",
    "            \n",
    "        avg_rewards[s] += episode_reward\n",
    "\n",
    "avg_rewards /= n"
   ]
  },
  {
   "cell_type": "code",
   "execution_count": 19,
   "id": "distributed-novel",
   "metadata": {},
   "outputs": [
    {
     "data": {
      "text/plain": [
       "array([[1.99882, 2.83507, 1.99706],\n",
       "       [2.43297, 3.41346, 2.43251],\n",
       "       [1.46378, 2.1139 , 1.4701 ]])"
      ]
     },
     "execution_count": 19,
     "metadata": {},
     "output_type": "execute_result"
    }
   ],
   "source": [
    "np.flip(avg_rewards.reshape(m, m), axis=0)"
   ]
  },
  {
   "cell_type": "markdown",
   "id": "centered-solomon",
   "metadata": {},
   "source": [
    "## We can also analtically calculate the state values using Bellman equations\n",
    "\n",
    "We know that $v(s) = \\sum_{s',r}p(s', r|s)[r+\\gamma v(s')]$\n",
    "\n",
    "When we incorporate it with transition probabilities: $v = PR + \\gamma Pv$\n",
    "\n",
    "And we can solve this equation for v as:\n",
    "$$\n",
    "(I - \\gamma P)v = PR\n",
    "$$\n",
    "$$\n",
    "v=(I - \\gamma P)^{-1}PR\n",
    "$$"
   ]
  },
  {
   "cell_type": "code",
   "execution_count": 21,
   "id": "inappropriate-savings",
   "metadata": {},
   "outputs": [],
   "source": [
    "R = np.ones(m2 + 1)\n",
    "R[-1] = 0\n",
    "\n",
    "gamma = 0.9999"
   ]
  },
  {
   "cell_type": "code",
   "execution_count": 22,
   "id": "clean-regulation",
   "metadata": {},
   "outputs": [
    {
     "data": {
      "text/plain": [
       "array([1.46796404, 2.11794995, 1.46796404, 2.4428918 , 3.42054869,\n",
       "       2.4428918 , 1.98767361, 2.81979941, 1.98767361, 0.        ])"
      ]
     },
     "execution_count": 22,
     "metadata": {},
     "output_type": "execute_result"
    }
   ],
   "source": [
    "inv = np.linalg.inv(np.eye(m2 + 1) - gamma * P)\n",
    "v = inv @ (P @ R)\n",
    "v"
   ]
  },
  {
   "cell_type": "markdown",
   "id": "impressive-orlando",
   "metadata": {},
   "source": [
    "Note that these values are real state values. We can see that the result we found earlier is almost same with this"
   ]
  },
  {
   "cell_type": "code",
   "execution_count": null,
   "id": "decreased-orbit",
   "metadata": {},
   "outputs": [],
   "source": []
  }
 ],
 "metadata": {
  "kernelspec": {
   "display_name": "Python 3",
   "language": "python",
   "name": "python3"
  },
  "language_info": {
   "codemirror_mode": {
    "name": "ipython",
    "version": 3
   },
   "file_extension": ".py",
   "mimetype": "text/x-python",
   "name": "python",
   "nbconvert_exporter": "python",
   "pygments_lexer": "ipython3",
   "version": "3.8.5"
  }
 },
 "nbformat": 4,
 "nbformat_minor": 5
}
