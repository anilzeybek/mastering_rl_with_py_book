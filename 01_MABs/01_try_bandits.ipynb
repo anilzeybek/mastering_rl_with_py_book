{
 "cells": [
  {
   "cell_type": "code",
   "execution_count": 1,
   "id": "stuck-train",
   "metadata": {},
   "outputs": [],
   "source": [
    "import numpy as np"
   ]
  },
  {
   "cell_type": "code",
   "execution_count": 2,
   "id": "modular-ratio",
   "metadata": {},
   "outputs": [],
   "source": [
    "class GaussianBandit:\n",
    "    def __init__(self, mean=0, stdev=1):\n",
    "        self.mean = mean\n",
    "        self.stdev = stdev\n",
    "\n",
    "    def pull_layer(self):\n",
    "        reward = np.random.normal(self.mean, self.stdev)\n",
    "        return np.round(reward, 1)"
   ]
  },
  {
   "cell_type": "code",
   "execution_count": 3,
   "id": "amino-roller",
   "metadata": {},
   "outputs": [],
   "source": [
    "class GaussianBanditGame:\n",
    "    def __init__(self, bandits):\n",
    "        self.bandits = bandits\n",
    "\n",
    "        # Shuffling because not to know which bandits are best since we know it when we send them\n",
    "        np.random.shuffle(self.bandits)\n",
    "\n",
    "        self.reset_game()\n",
    "\n",
    "    def play(self, choice):\n",
    "        reward = self.bandits[choice - 1].pull_layer()\n",
    "        self.rewards.append(reward)\n",
    "        self.total_reward += reward\n",
    "\n",
    "        self.n_played += 1\n",
    "        return reward\n",
    "\n",
    "    def user_play(self):\n",
    "        self.reset_game()\n",
    "        print(\"Game started. Enter 0 as input to end the game.\")\n",
    "\n",
    "        while True:\n",
    "            print(f\"\\n-- Round {self.n_played}\")\n",
    "            choice = int(input(f\"Choose machine from 1 to {len(self.bandits)}: \"))\n",
    "            if choice in range(1, len(self.bandits) + 1):\n",
    "                reward = self.play(choice)\n",
    "                print(f\"Machine {choice} gave a reward of {reward}\")\n",
    "\n",
    "                avg_reward = self.total_reward / self.n_played\n",
    "                print(f\"Average reward so far is {avg_reward}\")\n",
    "            else:\n",
    "                break\n",
    "\n",
    "        print(\"Game has ended\")\n",
    "        if self.n_played > 0:\n",
    "            print(f\"Total reward is {self.total_reward} after {self.n_played} round(s)\")\n",
    "\n",
    "            avg_reward = self.total_reward / self.n_played\n",
    "            print(f\"Average reward is {avg_reward}\")\n",
    "\n",
    "    def reset_game(self):\n",
    "        self.rewards = []\n",
    "        self.total_reward = 0\n",
    "        self.n_played = 0"
   ]
  },
  {
   "cell_type": "code",
   "execution_count": 4,
   "id": "exempt-necklace",
   "metadata": {},
   "outputs": [
    {
     "output_type": "stream",
     "name": "stdout",
     "text": [
      "Game started. Enter 0 as input to end the game.\n",
      "\n",
      "-- Round 0\n",
      "Machine 1 gave a reward of -7.6\n",
      "Average reward so far is -7.6\n",
      "\n",
      "-- Round 1\n",
      "Machine 1 gave a reward of -0.4\n",
      "Average reward so far is -4.0\n",
      "\n",
      "-- Round 2\n",
      "Machine 1 gave a reward of 3.4\n",
      "Average reward so far is -1.5333333333333332\n",
      "\n",
      "-- Round 3\n",
      "Machine 1 gave a reward of 4.1\n",
      "Average reward so far is -0.125\n",
      "\n",
      "-- Round 4\n",
      "Machine 1 gave a reward of -3.3\n",
      "Average reward so far is -0.76\n",
      "\n",
      "-- Round 5\n",
      "Machine 1 gave a reward of 12.0\n",
      "Average reward so far is 1.3666666666666665\n",
      "\n",
      "-- Round 6\n",
      "Machine 1 gave a reward of -3.6\n",
      "Average reward so far is 0.6571428571428571\n",
      "\n",
      "-- Round 7\n",
      "Machine 1 gave a reward of -0.4\n",
      "Average reward so far is 0.5249999999999999\n",
      "\n",
      "-- Round 8\n",
      "Machine 1 gave a reward of 7.6\n",
      "Average reward so far is 1.311111111111111\n",
      "\n",
      "-- Round 9\n",
      "Machine 1 gave a reward of -6.4\n",
      "Average reward so far is 0.5399999999999998\n",
      "\n",
      "-- Round 10\n",
      "Game has ended\n",
      "Total reward is 5.399999999999999 after 10 round(s)\n",
      "Average reward is 0.5399999999999998\n"
     ]
    }
   ],
   "source": [
    "slotA = GaussianBandit(5, 3)\n",
    "slotB = GaussianBandit(6, 2)\n",
    "slotC = GaussianBandit(1, 5)\n",
    "\n",
    "game = GaussianBanditGame([slotA, slotB, slotC])\n",
    "game.user_play()"
   ]
  }
 ],
 "metadata": {
  "kernelspec": {
   "name": "python3",
   "display_name": "Python 3.8.5 64-bit ('base': conda)",
   "metadata": {
    "interpreter": {
     "hash": "b3b1a81443bd6b768e1308159c857892414739ff07180718d776063151124255"
    }
   }
  },
  "language_info": {
   "codemirror_mode": {
    "name": "ipython",
    "version": 3
   },
   "file_extension": ".py",
   "mimetype": "text/x-python",
   "name": "python",
   "nbconvert_exporter": "python",
   "pygments_lexer": "ipython3",
   "version": "3.8.5-final"
  }
 },
 "nbformat": 4,
 "nbformat_minor": 5
}